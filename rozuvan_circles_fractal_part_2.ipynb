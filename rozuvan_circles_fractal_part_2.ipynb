{
 "cells": [
  {
   "cell_type": "code",
   "execution_count": 1,
   "metadata": {
    "collapsed": true
   },
   "outputs": [],
   "source": [
    "import numpy as np"
   ]
  },
  {
   "cell_type": "code",
   "execution_count": 2,
   "metadata": {
    "collapsed": false
   },
   "outputs": [],
   "source": [
    "from pylab import imshow, show"
   ]
  },
  {
   "cell_type": "code",
   "execution_count": 3,
   "metadata": {
    "collapsed": true
   },
   "outputs": [],
   "source": [
    "import math"
   ]
  },
  {
   "cell_type": "code",
   "execution_count": 4,
   "metadata": {
    "collapsed": true
   },
   "outputs": [],
   "source": [
    "from timeit import default_timer as timer"
   ]
  },
  {
   "cell_type": "code",
   "execution_count": 5,
   "metadata": {
    "collapsed": true
   },
   "outputs": [],
   "source": [
    "def fractal(\n",
    "  x, y,\n",
    "  max_iters, bailout_dist,\n",
    "  a11, a12, a21, a22, a31, a32, a33, a34, a35, a36, a41, a42\n",
    "):\n",
    "  \"\"\"\n",
    "    Given the real and imaginary parts of a complex number,\n",
    "    determine if it is a candidate for membership in the fractal\n",
    "    set given a fixed number of iterations.\n",
    "  \"\"\"\n",
    "  c = complex(x, y)\n",
    "  cL = abs(c)\n",
    "\n",
    "  try:\n",
    "    w1 = a11 * cL + a12\n",
    "  except (OverflowError, ZeroDivisionError) as e:\n",
    "    return max_iters\n",
    "\n",
    "  try:\n",
    "    w2 = a21 * cL + a22\n",
    "  except (OverflowError, ZeroDivisionError) as e:\n",
    "    return max_iters\n",
    "\n",
    "  try:\n",
    "    w3 = pow(a31 * cL + a32, a33 * c + a34) + (a35 * cL + a36) * c\n",
    "  except (OverflowError, ZeroDivisionError) as e:\n",
    "    return max_iters\n",
    "    \n",
    "  try:\n",
    "    w4 = a41 * cL + a42\n",
    "  except (OverflowError, ZeroDivisionError) as e:\n",
    "    return max_iters\n",
    "\n",
    "  z = 0.0j\n",
    "  for i in range(max_iters):\n",
    "    try:\n",
    "      z = pow(pow(w1 + z, w2) + w3, w4)\n",
    "    except (OverflowError, ZeroDivisionError) as e:\n",
    "      return max_iters\n",
    "    \n",
    "    if (z.real*z.real + z.imag*z.imag) >= bailout_dist:\n",
    "      return i\n",
    "\n",
    "  return max_iters"
   ]
  },
  {
   "cell_type": "code",
   "execution_count": 6,
   "metadata": {
    "collapsed": true
   },
   "outputs": [],
   "source": [
    "def create_fractal(\n",
    "  min_x, max_x, min_y, max_y,\n",
    "  image,\n",
    "  iters, bailout_dist,\n",
    "  a11, a12, a21, a22, a31, a32, a33, a34, a35, a36, a41, a42\n",
    "):\n",
    "  height = image.shape[0]\n",
    "  width = image.shape[1]\n",
    "  \n",
    "  pixel_size_x = (max_x - min_x) / width\n",
    "  pixel_size_y = (max_y - min_y) / height\n",
    "  \n",
    "  for x in range(width):\n",
    "    real = min_x + x * pixel_size_x\n",
    "    for y in range(height):\n",
    "      imag = min_y + y * pixel_size_y\n",
    "      \n",
    "      escape_num = fractal(\n",
    "        real, imag,\n",
    "        iters, bailout_dist,\n",
    "        a11, a12, a21, a22, a31, a32, a33, a34, a35, a36, a41, a42\n",
    "      )\n",
    "      \n",
    "      if (escape_num == iters):\n",
    "        image[y, x] = 0\n",
    "      else:\n",
    "        image[y, x] = 255"
   ]
  },
  {
   "cell_type": "code",
   "execution_count": 7,
   "metadata": {
    "collapsed": false
   },
   "outputs": [
    {
     "name": "stdout",
     "output_type": "stream",
     "text": [
      "Fractal generated in 39.847765 s\n"
     ]
    }
   ],
   "source": [
    "height = 1080.0\n",
    "width = 1920.0\n",
    "image = np.zeros((int(height), int(width), 3), dtype = np.uint8)\n",
    "\n",
    "centerX = -0.5\n",
    "centerY = 0.0\n",
    "viewWidth = 449.82162780783005\n",
    "viewHeight = viewWidth * (height / width)\n",
    "\n",
    "min_x = centerX - viewWidth * 0.5\n",
    "max_x = centerX + viewWidth * 0.5\n",
    "min_y = centerY - viewHeight * 0.5\n",
    "max_y = centerY + viewHeight * 0.5\n",
    "\n",
    "a11 = complex(1.0, 0.0)\n",
    "a12 = complex(0.0, -10.0)\n",
    "\n",
    "a21 = complex(1.0, 0.0)\n",
    "a22 = complex(0.0, 10.0)\n",
    "\n",
    "a31 = complex(0.0, -2.0)\n",
    "a32 = complex(-100.0, 0.0)\n",
    "a33 = complex(1.0, 0.0)\n",
    "a34 = complex(0.0, 0.0)\n",
    "a35 = complex(0.0, -1.0)\n",
    "a36 = complex(-200.0, 0.0)\n",
    "\n",
    "a41 = complex(0.0, 1.0)\n",
    "a42 = complex(0.0, 0.0)\n",
    "\n",
    "max_iter = 50\n",
    "bailout_dist = 400000.0\n",
    "\n",
    "start = timer()\n",
    "create_fractal(\n",
    "  min_x, max_x, min_y, max_y,\n",
    "  image,\n",
    "  max_iter, bailout_dist,\n",
    "  a11, a12, a21, a22, a31, a32, a33, a34, a35, a36, a41, a42\n",
    ")\n",
    "dt = timer() - start\n",
    "\n",
    "print \"Fractal generated in %f s\" % dt\n",
    "\n",
    "imshow(image, origin='lower', extent=(min_x, max_x, min_y, max_y))\n",
    "show()"
   ]
  },
  {
   "cell_type": "code",
   "execution_count": 8,
   "metadata": {
    "collapsed": false
   },
   "outputs": [
    {
     "name": "stdout",
     "output_type": "stream",
     "text": [
      "Fractal generated in 29.372203 s\n"
     ]
    }
   ],
   "source": [
    "height = 1080.0\n",
    "width = 1920.0\n",
    "image = np.zeros((int(height), int(width), 3), dtype = np.uint8)\n",
    "\n",
    "centerX = -0.055515619873081685\n",
    "centerY = 0.00002206854513772745\n",
    "viewWidth = 0.008159161006168078\n",
    "viewHeight = viewWidth * (height / width)\n",
    "\n",
    "min_x = centerX - viewWidth * 0.5\n",
    "max_x = centerX + viewWidth * 0.5\n",
    "min_y = centerY - viewHeight * 0.5\n",
    "max_y = centerY + viewHeight * 0.5\n",
    "\n",
    "a11 = complex(0.0, 0.0)\n",
    "a12 = complex(1.0, 0.0)\n",
    "\n",
    "a21 = complex(0.0, 0.0)\n",
    "a22 = complex(64.0, 0.0)\n",
    "\n",
    "a31 = complex(0.0, 0.0)\n",
    "a32 = complex(128.0, 0.0)\n",
    "a33 = complex(1.0, 0.0)\n",
    "a34 = complex(0.0, 0.0)\n",
    "a35 = complex(0.0, 0.0)\n",
    "a36 = complex(32.0, 0.0)\n",
    "\n",
    "a41 = complex(0.0, 0.0)\n",
    "a42 = complex(2.000001, 0.0001)\n",
    "\n",
    "max_iter = 500\n",
    "bailout_dist = 4000000000.0\n",
    "\n",
    "start = timer()\n",
    "create_fractal(\n",
    "  min_x, max_x, min_y, max_y,\n",
    "  image,\n",
    "  max_iter, bailout_dist,\n",
    "  a11, a12, a21, a22, a31, a32, a33, a34, a35, a36, a41, a42\n",
    ")\n",
    "dt = timer() - start\n",
    "\n",
    "print \"Fractal generated in %f s\" % dt\n",
    "\n",
    "imshow(image, origin='lower', extent=(min_x, max_x, min_y, max_y))\n",
    "show()"
   ]
  },
  {
   "cell_type": "code",
   "execution_count": 9,
   "metadata": {
    "collapsed": false
   },
   "outputs": [
    {
     "name": "stdout",
     "output_type": "stream",
     "text": [
      "Fractal generated in 94.405396 s\n"
     ]
    }
   ],
   "source": [
    "height = 1080.0\n",
    "width = 1920.0\n",
    "image = np.zeros((int(height), int(width), 3), dtype = np.uint8)\n",
    "\n",
    "centerX = -0.5\n",
    "centerY = 0.0\n",
    "viewWidth = 5.2\n",
    "viewHeight = viewWidth * (height / width)\n",
    "\n",
    "min_x = centerX - viewWidth * 0.5\n",
    "max_x = centerX + viewWidth * 0.5\n",
    "min_y = centerY - viewHeight * 0.5\n",
    "max_y = centerY + viewHeight * 0.5\n",
    "\n",
    "a11 = complex(0.0, 0.0)\n",
    "a12 = complex(0.0, 0.0)\n",
    "\n",
    "a21 = complex(0.0, 0.0)\n",
    "a22 = complex(2.0, 0.0)\n",
    "\n",
    "a31 = complex(0.0, 0.0)\n",
    "a32 = complex(0.0, 0.0)\n",
    "a33 = complex(0.0, 0.0)\n",
    "a34 = complex(1.0, 0.0)\n",
    "a35 = complex(0.0, 0.0)\n",
    "a36 = complex(1.0, 0.0)\n",
    "\n",
    "a41 = complex(0.0, 0.0)\n",
    "a42 = complex(1.0, 0.0)\n",
    "\n",
    "max_iter = 500\n",
    "bailout_dist = 400000.0\n",
    "\n",
    "start = timer()\n",
    "create_fractal(\n",
    "  min_x, max_x, min_y, max_y,\n",
    "  image,\n",
    "  max_iter, bailout_dist,\n",
    "  a11, a12, a21, a22, a31, a32, a33, a34, a35, a36, a41, a42\n",
    ")\n",
    "dt = timer() - start\n",
    "\n",
    "print \"Fractal generated in %f s\" % dt\n",
    "\n",
    "imshow(image, origin='lower', extent=(min_x, max_x, min_y, max_y))\n",
    "show()"
   ]
  },
  {
   "cell_type": "code",
   "execution_count": null,
   "metadata": {
    "collapsed": true
   },
   "outputs": [],
   "source": []
  }
 ],
 "metadata": {
  "anaconda-cloud": {},
  "kernelspec": {
   "display_name": "Python [Root]",
   "language": "python",
   "name": "Python [Root]"
  },
  "language_info": {
   "codemirror_mode": {
    "name": "ipython",
    "version": 2
   },
   "file_extension": ".py",
   "mimetype": "text/x-python",
   "name": "python",
   "nbconvert_exporter": "python",
   "pygments_lexer": "ipython2",
   "version": "2.7.12"
  }
 },
 "nbformat": 4,
 "nbformat_minor": 0
}
