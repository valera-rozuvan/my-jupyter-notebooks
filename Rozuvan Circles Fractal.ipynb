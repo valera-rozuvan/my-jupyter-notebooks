{
 "cells": [
  {
   "cell_type": "code",
   "execution_count": 1,
   "metadata": {
    "collapsed": true
   },
   "outputs": [],
   "source": [
    "import numpy as np"
   ]
  },
  {
   "cell_type": "code",
   "execution_count": 2,
   "metadata": {
    "collapsed": true
   },
   "outputs": [],
   "source": [
    "from pylab import imshow, show"
   ]
  },
  {
   "cell_type": "code",
   "execution_count": 3,
   "metadata": {
    "collapsed": true
   },
   "outputs": [],
   "source": [
    "import math"
   ]
  },
  {
   "cell_type": "code",
   "execution_count": 4,
   "metadata": {
    "collapsed": true
   },
   "outputs": [],
   "source": [
    "from timeit import default_timer as timer"
   ]
  },
  {
   "cell_type": "code",
   "execution_count": 5,
   "metadata": {
    "collapsed": true
   },
   "outputs": [],
   "source": [
    "def fractal(x, y, max_iters):\n",
    "  \"\"\"\n",
    "    Given the real and imaginary parts of a complex number,\n",
    "    determine if it is a candidate for membership in the fractal\n",
    "    set given a fixed number of iterations.\n",
    "  \"\"\"\n",
    "  c = complex(x, y)\n",
    "  cL = abs(c)\n",
    "\n",
    "  try:\n",
    "    t2 = complex(cL, 10.0)\n",
    "  except OverflowError, err:\n",
    "    return max_iters\n",
    "  try:\n",
    "    t3 = pow(complex(-100.0, -2.0 * cL), c)\n",
    "  except OverflowError, err:\n",
    "    return max_iters\n",
    "  try:\n",
    "    t4 = complex(0.0, cL)\n",
    "  except OverflowError, err:\n",
    "    return max_iters\n",
    "  try:\n",
    "    t5 = complex(-200.0, -cL) * c\n",
    "  except OverflowError, err:\n",
    "    return max_iters\n",
    "\n",
    "  z = 0.0j\n",
    "  for i in range(max_iters):\n",
    "    try:\n",
    "        t1 = complex(cL, -10.0) + z\n",
    "    except OverflowError, err:\n",
    "        return max_iters\n",
    "    \n",
    "    try:\n",
    "        T1 = pow(t1, t2)\n",
    "    except OverflowError, err:\n",
    "        return max_iters\n",
    "    try:\n",
    "        T2 = T1 + t3\n",
    "    except OverflowError, err:\n",
    "        return max_iters\n",
    "    try:\n",
    "        T3 = T2 + t5\n",
    "    except OverflowError, err:\n",
    "        return max_iters\n",
    "    try:\n",
    "        T4 = pow(T3, t4)\n",
    "    except OverflowError, err:\n",
    "        return max_iters\n",
    "    \n",
    "    z = T4\n",
    "    if (z.real*z.real + z.imag*z.imag) >= 400000.0:\n",
    "      return i\n",
    "\n",
    "  return max_iters"
   ]
  },
  {
   "cell_type": "code",
   "execution_count": 6,
   "metadata": {
    "collapsed": true
   },
   "outputs": [],
   "source": [
    "def create_fractal(min_x, max_x, min_y, max_y, image, iters):\n",
    "  height = image.shape[0]\n",
    "  width = image.shape[1]\n",
    "  \n",
    "  pixel_size_x = (max_x - min_x) / width\n",
    "  pixel_size_y = (max_y - min_y) / height\n",
    "  \n",
    "  for x in range(width):\n",
    "    real = min_x + x * pixel_size_x\n",
    "    for y in range(height):\n",
    "      imag = min_y + y * pixel_size_y\n",
    "      \n",
    "      escape_num = fractal(real, imag, iters)\n",
    "      \n",
    "      if (escape_num == iters):\n",
    "        image[y, x] = 255\n",
    "      else:\n",
    "        image[y, x] = 0"
   ]
  },
  {
   "cell_type": "code",
   "execution_count": 7,
   "metadata": {
    "collapsed": false
   },
   "outputs": [
    {
     "name": "stdout",
     "output_type": "stream",
     "text": [
      "Fractal generated in 46.654292 s\n"
     ]
    }
   ],
   "source": [
    "image = np.zeros((1080, 1920, 3), dtype = np.uint8)\n",
    "start = timer()\n",
    "create_fractal(-228.24, 228.24, -120.96, 120.96, image, 50) \n",
    "dt = timer() - start\n",
    "\n",
    "print \"Fractal generated in %f s\" % dt\n",
    "imshow(image, origin='lower', extent=(-228.24, 228.24, -120.96, 120.96))\n",
    "show()"
   ]
  },
  {
   "cell_type": "code",
   "execution_count": 8,
   "metadata": {
    "collapsed": false
   },
   "outputs": [
    {
     "name": "stdout",
     "output_type": "stream",
     "text": [
      "Fractal generated in 111.391565 s\n"
     ]
    }
   ],
   "source": [
    "image = np.zeros((1080, 1920, 3), dtype = np.uint8)\n",
    "start = timer()\n",
    "create_fractal(-19.20, 19.20, -10.80, 10.80, image, 50) \n",
    "dt = timer() - start\n",
    "\n",
    "print \"Fractal generated in %f s\" % dt\n",
    "imshow(image, origin='lower', extent=(-19.20, 19.20, -10.80, 10.80))\n",
    "show()"
   ]
  },
  {
   "cell_type": "code",
   "execution_count": 9,
   "metadata": {
    "collapsed": false
   },
   "outputs": [
    {
     "name": "stdout",
     "output_type": "stream",
     "text": [
      "Fractal generated in 89.684649 s\n"
     ]
    }
   ],
   "source": [
    "image = np.zeros((1080, 1920, 3), dtype = np.uint8)\n",
    "start = timer()\n",
    "create_fractal(-4.0, -4.0 + 80.0 / 9.0, 4.0, 9.0, image, 50) \n",
    "dt = timer() - start\n",
    "\n",
    "print \"Fractal generated in %f s\" % dt\n",
    "imshow(image, origin='lower', extent=(-4.0, -4.0 + 80.0 / 9.0, 4.0, 9.0))\n",
    "show()"
   ]
  },
  {
   "cell_type": "code",
   "execution_count": null,
   "metadata": {
    "collapsed": true
   },
   "outputs": [],
   "source": []
  }
 ],
 "metadata": {
  "anaconda-cloud": {},
  "kernelspec": {
   "display_name": "Python [Root]",
   "language": "python",
   "name": "Python [Root]"
  },
  "language_info": {
   "codemirror_mode": {
    "name": "ipython",
    "version": 2
   },
   "file_extension": ".py",
   "mimetype": "text/x-python",
   "name": "python",
   "nbconvert_exporter": "python",
   "pygments_lexer": "ipython2",
   "version": "2.7.12"
  }
 },
 "nbformat": 4,
 "nbformat_minor": 0
}
